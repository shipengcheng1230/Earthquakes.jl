{
 "cells": [
  {
   "cell_type": "markdown",
   "metadata": {},
   "source": [
    "# SEAS Benchmark Problem 1"
   ]
  },
  {
   "cell_type": "markdown",
   "metadata": {},
   "source": [
    "Firts of all, run the `bp1.jl` (at the current directory) to simulate the problem defined by **Benchmark Problem 1**. Details are well documented in that. For *3000 years* simulation, it take around *1100 seconds* to complete solving ODEs on *Intel i7 2.9 GHz* by using one core only."
   ]
  },
  {
   "cell_type": "markdown",
   "metadata": {},
   "source": [
    "## Retrive our results"
   ]
  },
  {
   "cell_type": "code",
   "execution_count": 1,
   "metadata": {},
   "outputs": [
    {
     "name": "stderr",
     "output_type": "stream",
     "text": [
      "/Users/spc/anaconda3/lib/python3.6/site-packages/h5py/__init__.py:36: FutureWarning: Conversion of the second argument of issubdtype from `float` to `np.floating` is deprecated. In future, it will be treated as `np.float64 == np.dtype(float).type`.\n",
      "  from ._conv import register_converters as _register_converters\n"
     ]
    }
   ],
   "source": [
    "import h5py\n",
    "import numpy as np"
   ]
  },
  {
   "cell_type": "code",
   "execution_count": 2,
   "metadata": {},
   "outputs": [],
   "source": [
    "f = h5py.File('./bp1.h5', 'r')\n",
    "d = f['bp1']\n",
    "\n",
    "t = np.array(d['t'])\n",
    "velocity = np.array(d['velocity'])\n",
    "state = np.array(d['state'])\n",
    "shear_stress = np.array(d['shear_stress'])\n",
    "slip = np.array(d['slip'])\n",
    "\n",
    "f.close()"
   ]
  },
  {
   "cell_type": "markdown",
   "metadata": {},
   "source": [
    "## Plot time-series output at specific depth"
   ]
  },
  {
   "cell_type": "markdown",
   "metadata": {},
   "source": [
    "Use `Plotly` to present our results"
   ]
  },
  {
   "cell_type": "code",
   "execution_count": 3,
   "metadata": {},
   "outputs": [],
   "source": [
    "import plotly.plotly as py\n",
    "import plotly.graph_objs as go\n",
    "from plotly import tools"
   ]
  },
  {
   "cell_type": "code",
   "execution_count": 14,
   "metadata": {},
   "outputs": [],
   "source": [
    "def plot_time_series_at_depth(depth_index, filename='bp1_time_series'):\n",
    "    tr1 = go.Scattergl(x=t, y=np.log10(velocity[:, depth_index]), mode='lines', name='slip rate')\n",
    "    tr2 = go.Scattergl(x=t, y=np.log10(state[:, depth_index]), mode='lines', name='state variable')\n",
    "    tr3 = go.Scattergl(x=t, y=shear_stress[:, depth_index], mode='lines', name='shear stress')\n",
    "    tr4 = go.Scattergl(x=t, y=slip[:, depth_index], mode='lines', name='slip distance')\n",
    "    \n",
    "    fig = tools.make_subplots(rows=2, cols=2, shared_xaxes=True)\n",
    "    \n",
    "    fig.append_trace(tr1, 1, 1)\n",
    "    fig.append_trace(tr2, 1, 2)\n",
    "    fig.append_trace(tr3, 2, 1)\n",
    "    fig.append_trace(tr4, 2, 2)\n",
    "    \n",
    "    fig['layout'].update(title='Time Series at {:.1f} km'.format(depth_index * 0.025))\n",
    " \n",
    "    fig['layout']['xaxis1'].update(title='year')\n",
    "    fig['layout']['xaxis2'].update(title='year')\n",
    "    \n",
    "    fig['layout']['yaxis1'].update(title='log10(m/s)', fixedrange=True)\n",
    "    fig['layout']['yaxis2'].update(title='log10(s)', fixedrange=True)\n",
    "    fig['layout']['yaxis3'].update(title='MPa', fixedrange=True)\n",
    "    fig['layout']['yaxis4'].update(title='m', fixedrange=True)\n",
    "    \n",
    "    return py.iplot(fig, filename=filename)"
   ]
  },
  {
   "cell_type": "markdown",
   "metadata": {},
   "source": [
    "Plot the time-series at the surface, i.e. `depth_index = 0`."
   ]
  },
  {
   "cell_type": "code",
   "execution_count": 15,
   "metadata": {
    "scrolled": false
   },
   "outputs": [
    {
     "name": "stdout",
     "output_type": "stream",
     "text": [
      "This is the format of your plot grid:\n",
      "[ (1,1) x1,y1 ]  [ (1,2) x2,y2 ]\n",
      "[ (2,1) x1,y3 ]  [ (2,2) x2,y4 ]\n",
      "\n"
     ]
    },
    {
     "data": {
      "text/html": [
       "<iframe id=\"igraph\" scrolling=\"no\" style=\"border:none;\" seamless=\"seamless\" src=\"https://plot.ly/~shipengcheng1230/3.embed\" height=\"525px\" width=\"100%\"></iframe>"
      ],
      "text/plain": [
       "<plotly.tools.PlotlyDisplay object>"
      ]
     },
     "execution_count": 15,
     "metadata": {},
     "output_type": "execute_result"
    }
   ],
   "source": [
    "plot_time_series_at_depth(0)"
   ]
  },
  {
   "cell_type": "markdown",
   "metadata": {},
   "source": [
    "## Plot slip profile"
   ]
  },
  {
   "cell_type": "markdown",
   "metadata": {},
   "source": [
    "Identify coseismic/interseismic by comparing maximum velocity along depth with our pre-defined threshold *1e-3 m/s*. The plot for coseismic slips only extend to *0.7* of the whole depth in order not to mess up with interseismic slips."
   ]
  },
  {
   "cell_type": "code",
   "execution_count": 7,
   "metadata": {},
   "outputs": [],
   "source": [
    "seis_threshold = 1e-3\n",
    "bottom_seis = int(0.7 * 1600)\n",
    "depths = np.arange(0, 40, 0.025)\n",
    "depths_seis = depths[:bottom_seis]\n",
    "\n",
    "max_vel = np.max(velocity[1:], axis=1)\n",
    "index_seis = max_vel > 1e-3\n",
    "\n",
    "slip_seis = slip[index_seis]\n",
    "slip_aseis = slip[~index_seis]"
   ]
  },
  {
   "cell_type": "code",
   "execution_count": 14,
   "metadata": {},
   "outputs": [],
   "source": [
    "def plot_slip_profile(seis_dsmp=150, aseis_dsmp=100, filename='bp1_slip_profile'):\n",
    "    \n",
    "    data = []\n",
    "    for i in np.arange(0, slip_seis.shape[0], seis_dsmp):\n",
    "        tr = go.Scatter(\n",
    "            x=slip_seis[i, :bottom_seis], y=depths_seis, mode='lines',\n",
    "            line=dict(color='rgb(0,176,246)', width=1),\n",
    "            name='coseismic',\n",
    "            showlegend=True if i == 0 else False\n",
    "        )\n",
    "        data.append(tr)\n",
    "        \n",
    "    for i in np.arange(0, slip_aseis.shape[0], aseis_dsmp):\n",
    "        tr = go.Scatter(\n",
    "            x=slip_aseis[i], y=depths, mode='lines',\n",
    "            line=dict(color='rgb(205, 12, 24)', width=1),\n",
    "            name='interseismic',\n",
    "            showlegend=True if i == 0 else False\n",
    "        )\n",
    "        data.append(tr)\n",
    "        \n",
    "    layout = go.Layout(\n",
    "        xaxis=dict(title='Slip (m)'),\n",
    "        yaxis=dict(title='Depth (km)', autorange='reversed'),\n",
    "    )\n",
    "    \n",
    "    fig = dict(data=data, layout=layout)\n",
    "    return py.iplot(fig, filename=filename)"
   ]
  },
  {
   "cell_type": "code",
   "execution_count": 16,
   "metadata": {},
   "outputs": [
    {
     "name": "stdout",
     "output_type": "stream",
     "text": [
      "The draw time for this plot will be slow for all clients.\n"
     ]
    },
    {
     "name": "stderr",
     "output_type": "stream",
     "text": [
      "/Users/spc/anaconda3/lib/python3.6/site-packages/plotly/api/v1/clientresp.py:40: UserWarning:\n",
      "\n",
      "Estimated Draw Time Too Long\n",
      "\n"
     ]
    },
    {
     "data": {
      "text/html": [
       "<iframe id=\"igraph\" scrolling=\"no\" style=\"border:none;\" seamless=\"seamless\" src=\"https://plot.ly/~shipengcheng1230/7.embed\" height=\"525px\" width=\"100%\"></iframe>"
      ],
      "text/plain": [
       "<plotly.tools.PlotlyDisplay object>"
      ]
     },
     "execution_count": 16,
     "metadata": {},
     "output_type": "execute_result"
    }
   ],
   "source": [
    "plot_slip_profile()"
   ]
  },
  {
   "cell_type": "markdown",
   "metadata": {},
   "source": [
    "## More plots"
   ]
  },
  {
   "cell_type": "code",
   "execution_count": 13,
   "metadata": {},
   "outputs": [
    {
     "name": "stdout",
     "output_type": "stream",
     "text": [
      "This is the format of your plot grid:\n",
      "[ (1,1) x1,y1 ]  [ (1,2) x2,y2 ]\n",
      "[ (2,1) x1,y3 ]  [ (2,2) x2,y4 ]\n",
      "\n"
     ]
    },
    {
     "data": {
      "text/html": [
       "<iframe id=\"igraph\" scrolling=\"no\" style=\"border:none;\" seamless=\"seamless\" src=\"https://plot.ly/~shipengcheng1230/9.embed\" height=\"525px\" width=\"100%\"></iframe>"
      ],
      "text/plain": [
       "<plotly.tools.PlotlyDisplay object>"
      ]
     },
     "execution_count": 13,
     "metadata": {},
     "output_type": "execute_result"
    }
   ],
   "source": [
    "plot_time_series_at_depth(1000, 'more_plot_overwritten')"
   ]
  },
  {
   "cell_type": "code",
   "execution_count": 39,
   "metadata": {},
   "outputs": [],
   "source": [
    "def plot_nth_event(depth_index, time_index, title, filename='first_event'):\n",
    "    ind1, ind2 = time_index\n",
    "    \n",
    "    tr1 = go.Scatter(\n",
    "        x=t[ind1: ind2], y=velocity[ind1: ind2, depth_index], mode='lines', name='slip rate'\n",
    "    )\n",
    "    tr2 = go.Scatter(\n",
    "        x=t[ind1: ind2], y=shear_stress[ind1: ind2, depth_index], mode='lines', name='shear stress'\n",
    "    )\n",
    "    \n",
    "    fig = tools.make_subplots(rows=1, cols=2)\n",
    "    \n",
    "    fig.append_trace(tr1, 1, 1)\n",
    "    fig.append_trace(tr2, 1, 2)\n",
    "    \n",
    "    fig['layout'].update(title='{} at {:.1f} km'.format(title, depth_index * 0.025))\n",
    " \n",
    "    fig['layout']['xaxis1'].update(title='year')\n",
    "    fig['layout']['xaxis2'].update(title='year')\n",
    "    \n",
    "    fig['layout']['yaxis1'].update(title='m/s', fixedrange=True)\n",
    "    fig['layout']['yaxis2'].update(title='MPa', fixedrange=True)\n",
    "\n",
    "    return py.iplot(fig, filename=filename) "
   ]
  },
  {
   "cell_type": "code",
   "execution_count": 54,
   "metadata": {},
   "outputs": [
    {
     "name": "stdout",
     "output_type": "stream",
     "text": [
      "This is the format of your plot grid:\n",
      "[ (1,1) x1,y1 ]  [ (1,2) x2,y2 ]\n",
      "\n"
     ]
    },
    {
     "data": {
      "text/html": [
       "<iframe id=\"igraph\" scrolling=\"no\" style=\"border:none;\" seamless=\"seamless\" src=\"https://plot.ly/~shipengcheng1230/13.embed\" height=\"525px\" width=\"100%\"></iframe>"
      ],
      "text/plain": [
       "<plotly.tools.PlotlyDisplay object>"
      ]
     },
     "execution_count": 54,
     "metadata": {},
     "output_type": "execute_result"
    }
   ],
   "source": [
    "ind1 = np.argmin(abs(t - 196.2269075))\n",
    "ind2 = np.argmin(abs(t - 196.2269090))\n",
    "plot_nth_event(300, [ind1, ind2], 'First event', 'nth_event')"
   ]
  },
  {
   "cell_type": "code",
   "execution_count": 53,
   "metadata": {},
   "outputs": [
    {
     "name": "stdout",
     "output_type": "stream",
     "text": [
      "This is the format of your plot grid:\n",
      "[ (1,1) x1,y1 ]  [ (1,2) x2,y2 ]\n",
      "\n"
     ]
    },
    {
     "data": {
      "text/html": [
       "<iframe id=\"igraph\" scrolling=\"no\" style=\"border:none;\" seamless=\"seamless\" src=\"https://plot.ly/~shipengcheng1230/13.embed\" height=\"525px\" width=\"100%\"></iframe>"
      ],
      "text/plain": [
       "<plotly.tools.PlotlyDisplay object>"
      ]
     },
     "execution_count": 53,
     "metadata": {},
     "output_type": "execute_result"
    }
   ],
   "source": [
    "ind1 = np.argmin(abs(t - 2948.8025290))\n",
    "ind2 = np.argmin(abs(t - 2948.8025310))\n",
    "plot_nth_event(300, [ind1, ind2], 'Last event', 'nth_event')"
   ]
  },
  {
   "cell_type": "code",
   "execution_count": null,
   "metadata": {},
   "outputs": [],
   "source": []
  }
 ],
 "metadata": {
  "kernelspec": {
   "display_name": "Python 3",
   "language": "python",
   "name": "python3"
  },
  "language_info": {
   "codemirror_mode": {
    "name": "ipython",
    "version": 3
   },
   "file_extension": ".py",
   "mimetype": "text/x-python",
   "name": "python",
   "nbconvert_exporter": "python",
   "pygments_lexer": "ipython3",
   "version": "3.6.5"
  }
 },
 "nbformat": 4,
 "nbformat_minor": 2
}
